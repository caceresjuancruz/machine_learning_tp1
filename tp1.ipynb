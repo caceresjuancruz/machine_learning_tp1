{
 "cells": [
  {
   "cell_type": "markdown",
   "metadata": {
    "id": "vpvBFen7P0UD"
   },
   "source": [
    "# TP1 Análisis exploratorio de datos\n",
    "## Canciones de Spotify\n",
    "El dataset que elegimos contiene información sobre una amplia variedad de pistas de música subidas en Spotify, abarcando distintos géneros. Cada fila del dataset representa una canción individual y está identificada de manera única mediante un ID. Además, se incluyen detalles relevantes como el nombre de la pista, el género musical, los artistas que la interpretan, el álbum al que pertenece, y si la canción contiene contenido explícito. Por último se proporciona un puntaje de popularidad, que varía de 0 a 100, reflejando la aceptación y difusión de la canción en la plataforma, y éste último va a ser nuestro objetivo principal a la hora de predecir.\n",
    "\n",
    "### 1. Listado de variables y selección\n",
    "\n",
    "- id: Identificador único para la canción de Spotify.\n",
    "- name: Nombre de la canción.\n",
    "- genre: Género de la canción.\n",
    "- artists: Nombres de los artistas que compusieron la canción, separados por comas si hay multiples artistas.\n",
    "- album: Nombre del album al que pertence la canción.\n",
    "- popularity: [VAR DE SALIDA] Puntaje de popularidad de la canción (0-100, más alto es más popular).\n",
    "- duration_ms: Duración de la canción en milisegundos.\n",
    "- explicit: Booleano indicando si la canción contiene contenido explícito.\n",
    "\n",
    "\n",
    "**Variables de entrada:**\n",
    "- genre\n",
    "- artists\n",
    "- duration_ms\n",
    "- explicit\n",
    "\n",
    "\n",
    "**Variable de salida:** popularity\n",
    "\n",
    "**Variables que no se utilizarán:**\n",
    "- id: Esta variable será ignorada ya que es simplemente un identificador único y no tiene relación directa con la popularidad de la canción.\n",
    "\n",
    "- name y album: Utilizar estas variables implicaría transformar texto a una representación numérica, lo que podría resultar en un alto número de columnas si se utiliza un enfoque como One Hot Encoding. Dado que estas variables no tienen una relación clara con la popularidad (a menos que se quiera explorar una posible correlación con ciertos nombres de canciones o álbumes específicos, lo cual parece menos relevante), es razonable no utilizarlas.\n",
    "\n",
    "en ambos casos, no aportan información directa o útil para predecir la popularidad, y su inclusión podría complicar innecesariamente el modelo sin beneficios claros.\n",
    "\n",
    "### 2. Análisis detallado de un conjunto de variables\n",
    "\n",
    "Distribución de la Variable de Salida (popularity)\n",
    "\n",
    "**Descripción:**\n",
    "\n",
    "popularity es la variable objetivo. Es una variable numérica discreta, representada en una escala de 0 a 100, que mide la popularidad de una canción en Spotify.\n",
    "\n",
    "**Análisis:**\n",
    "\n",
    "**Preguntas para el proveedor de los datos**\n",
    "- ¿Cómo se determinó la popularidad de las canciones?\n",
    "- ¿Existen géneros musicales que no están representados en el dataset?\n",
    "- ¿Hay algún sesgo en los datos (por ejemplo, más canciones de ciertos géneros)?\n",
    "\n",
    "**Preprocesado:**\n",
    "- genre: One Hot Encoder. \n",
    "- artists: Count Vectorizer y luego un PCA para reducir la dimensionalidad\n",
    "- duration_ms y popularity: StandardScale\n",
    "\n",
    "**Limpieza:**\n",
    "- Eliminar datos con la columna de \"duration_ms\" menores a 1 minuto y mayores a 10 (considerados como outliers)\n",
    "- El dataset no presenta datos nulls\n",
    "\n",
    "### Análisis\n",
    "- duration_ms: no hay canciones muy populares que duren menos de 150000ms o más de 250000ms\n",
    "- explicit: tiene una distribución similar de popularidad, cabe destacar que las canciones explicitas ganan por muy poca diferencia, sin embargo hay outliers en canciones no explicitas que poseen una muy alta popularidad.\n",
    "- genre: la mayoría en si se encuentran concentrados en un cierto rango de popularidad, sin embargo la mayoría tienen outliers de casos de éxitos como también de fracasos. pocos casos como el genero \"ska\" estan equilibradamente distribuidos sin tener una concentración clara en un cierto rango de popularidad.\n"
   ]
  },
  {
   "cell_type": "code",
   "execution_count": 1,
   "metadata": {},
   "outputs": [],
   "source": [
    "import matplotlib.pyplot as plt\n",
    "import seaborn as sns\n",
    "import numpy as np\n",
    "import pandas as pd \n",
    "import warnings\n",
    "from sklearn.linear_model import LogisticRegression\n",
    "from sklearn.preprocessing import OneHotEncoder, StandardScaler\n",
    "from sklearn.feature_extraction.text import CountVectorizer\n",
    "from sklearn.model_selection import train_test_split\n",
    "from sklearn.pipeline import Pipeline\n",
    "from sklearn_pandas import DataFrameMapper\n",
    "from sklearn.decomposition import PCA\n",
    "from sklearn.metrics import mean_squared_error, r2_score\n",
    "from sklearn import metrics\n",
    "\n",
    "df = pd.read_csv('spotify_tracks.csv')"
   ]
  },
  {
   "cell_type": "code",
   "execution_count": 2,
   "metadata": {},
   "outputs": [],
   "source": [
    "df = df.drop(columns=['id', 'album'])\n",
    "df = df[(df['duration_ms'] < 600000) & (df['duration_ms'] > 10000)] #probamos filtrar las canciones que duran más de 10 minutos"
   ]
  },
  {
   "cell_type": "code",
   "execution_count": 3,
   "metadata": {},
   "outputs": [],
   "source": [
    "def evaluate_model(model, set_names=('train', 'validation'), title='', show_cm=False):\n",
    "    if title:\n",
    "        display(title)\n",
    "        \n",
    "    final_metrics = {\n",
    "        'Accuracy': [],\n",
    "        'Precision': [],\n",
    "        'Recall': [],\n",
    "        'F1': [],        \n",
    "    }\n",
    "        \n",
    "    for i, set_name in enumerate(set_names):\n",
    "        assert set_name in ['train', 'validation', 'test']\n",
    "        set_data = globals()[set_name]  # <- hack feo...\n",
    "\n",
    "        y = set_data.popularity_category\n",
    "        y_pred = model.predict(set_data)\n",
    "        final_metrics['Accuracy'].append(metrics.accuracy_score(y, y_pred))\n",
    "        final_metrics['Precision'].append(metrics.precision_score(y, y_pred, average='macro'))\n",
    "        final_metrics['Recall'].append(metrics.recall_score(y, y_pred, average='macro'))\n",
    "        final_metrics['F1'].append(metrics.f1_score(y, y_pred, average='macro'))\n",
    "        \n",
    "        if show_cm:\n",
    "            cm = metrics.confusion_matrix(y, y_pred)\n",
    "            cm_plot = metrics.ConfusionMatrixDisplay(confusion_matrix=cm)\n",
    "            cm_plot.plot(cmap=\"Blues\")\n",
    "            cm_plot.ax_.set_title(set_name)\n",
    "        \n",
    "    display(pd.DataFrame(final_metrics, index=set_names))"
   ]
  },
  {
   "cell_type": "code",
   "execution_count": 26,
   "metadata": {
    "scrolled": true
   },
   "outputs": [
    {
     "data": {
      "text/plain": [
       "'Knn'"
      ]
     },
     "metadata": {},
     "output_type": "display_data"
    },
    {
     "data": {
      "text/html": [
       "<div>\n",
       "<style scoped>\n",
       "    .dataframe tbody tr th:only-of-type {\n",
       "        vertical-align: middle;\n",
       "    }\n",
       "\n",
       "    .dataframe tbody tr th {\n",
       "        vertical-align: top;\n",
       "    }\n",
       "\n",
       "    .dataframe thead th {\n",
       "        text-align: right;\n",
       "    }\n",
       "</style>\n",
       "<table border=\"1\" class=\"dataframe\">\n",
       "  <thead>\n",
       "    <tr style=\"text-align: right;\">\n",
       "      <th></th>\n",
       "      <th>Accuracy</th>\n",
       "      <th>Precision</th>\n",
       "      <th>Recall</th>\n",
       "      <th>F1</th>\n",
       "    </tr>\n",
       "  </thead>\n",
       "  <tbody>\n",
       "    <tr>\n",
       "      <th>train</th>\n",
       "      <td>0.724202</td>\n",
       "      <td>0.739087</td>\n",
       "      <td>0.677641</td>\n",
       "      <td>0.697754</td>\n",
       "    </tr>\n",
       "    <tr>\n",
       "      <th>validation</th>\n",
       "      <td>0.502392</td>\n",
       "      <td>0.473700</td>\n",
       "      <td>0.447946</td>\n",
       "      <td>0.453256</td>\n",
       "    </tr>\n",
       "  </tbody>\n",
       "</table>\n",
       "</div>"
      ],
      "text/plain": [
       "            Accuracy  Precision    Recall        F1\n",
       "train       0.724202   0.739087  0.677641  0.697754\n",
       "validation  0.502392   0.473700  0.447946  0.453256"
      ]
     },
     "metadata": {},
     "output_type": "display_data"
    },
    {
     "data": {
      "image/png": "[encoded data removed]",
      "text/plain": [
       "<Figure size 640x480 with 2 Axes>"
      ]
     },
     "metadata": {},
     "output_type": "display_data"
    },
    {
     "data": {
      "image/png": "[encoded data removed]",
      "text/plain": [
       "<Figure size 640x480 with 2 Axes>"
      ]
     },
     "metadata": {},
     "output_type": "display_data"
    }
   ],
   "source": [
    "from sklearn.neighbors import KNeighborsClassifier\n",
    "from sklearn.tree import DecisionTreeClassifier\n",
    "\n",
    "def categorize_popularity(popularity):\n",
    "    if 20 < popularity <= 33:\n",
    "        return 'baja'\n",
    "    elif 40 < popularity <= 66:\n",
    "        return 'media'\n",
    "    else:\n",
    "        return 'alta'\n",
    "\n",
    "df['popularity_category'] = df['popularity'].apply(categorize_popularity)\n",
    "\n",
    "# 60% train, 20% test, 20% validation\n",
    "train, not_train = train_test_split(df, test_size=0.4, random_state=42)\n",
    "validation, test = train_test_split(not_train, test_size=0.5, random_state=42)\n",
    "\n",
    "train.shape, validation.shape, test.shape\n",
    "\n",
    "mapper = DataFrameMapper([\n",
    "    (['genre'], OneHotEncoder()),\n",
    "    ('name', Pipeline([\n",
    "        ('vectorizer', CountVectorizer()),\n",
    "        ('pca', PCA(n_components=50))\n",
    "        # ('pca', PCA(n_components=0.95)) no funciona\n",
    "    ])),\n",
    "    ('artists', Pipeline([\n",
    "        ('vectorizer', CountVectorizer()),\n",
    "        ('pca', PCA(n_components=50))\n",
    "        # ('pca', PCA(n_components=0.95)) no funciona\n",
    "    ])),\n",
    "    (['duration_ms'], StandardScaler()),\n",
    "], df_out=True)\n",
    "\n",
    "mapper.fit_transform(df)\n",
    "\n",
    "K = 3\n",
    "\n",
    "knn_model = Pipeline([\n",
    "    ('mapper', mapper),\n",
    "    ('classifier', KNeighborsClassifier(n_neighbors=K)),\n",
    "])\n",
    "\n",
    "# knn_model.fit(train, train.popularity_category)\n",
    "\n",
    "knn_model.fit(train, train['popularity_category'])\n",
    "\n",
    "evaluate_model(knn_model, title='Knn', show_cm=True)"
   ]
  },
  {
   "cell_type": "code",
   "execution_count": 27,
   "metadata": {},
   "outputs": [
    {
     "data": {
      "text/plain": [
       "'Decision Tree'"
      ]
     },
     "metadata": {},
     "output_type": "display_data"
    },
    {
     "data": {
      "text/html": [
       "<div>\n",
       "<style scoped>\n",
       "    .dataframe tbody tr th:only-of-type {\n",
       "        vertical-align: middle;\n",
       "    }\n",
       "\n",
       "    .dataframe tbody tr th {\n",
       "        vertical-align: top;\n",
       "    }\n",
       "\n",
       "    .dataframe thead th {\n",
       "        text-align: right;\n",
       "    }\n",
       "</style>\n",
       "<table border=\"1\" class=\"dataframe\">\n",
       "  <thead>\n",
       "    <tr style=\"text-align: right;\">\n",
       "      <th></th>\n",
       "      <th>Accuracy</th>\n",
       "      <th>Precision</th>\n",
       "      <th>Recall</th>\n",
       "      <th>F1</th>\n",
       "    </tr>\n",
       "  </thead>\n",
       "  <tbody>\n",
       "    <tr>\n",
       "      <th>train</th>\n",
       "      <td>0.519415</td>\n",
       "      <td>0.675221</td>\n",
       "      <td>0.385357</td>\n",
       "      <td>0.333679</td>\n",
       "    </tr>\n",
       "    <tr>\n",
       "      <th>validation</th>\n",
       "      <td>0.498405</td>\n",
       "      <td>0.486264</td>\n",
       "      <td>0.364060</td>\n",
       "      <td>0.301996</td>\n",
       "    </tr>\n",
       "  </tbody>\n",
       "</table>\n",
       "</div>"
      ],
      "text/plain": [
       "            Accuracy  Precision    Recall        F1\n",
       "train       0.519415   0.675221  0.385357  0.333679\n",
       "validation  0.498405   0.486264  0.364060  0.301996"
      ]
     },
     "metadata": {},
     "output_type": "display_data"
    }
   ],
   "source": [
    "tree_model = Pipeline([\n",
    "    ('mapper', mapper),\n",
    "    ('classifier', DecisionTreeClassifier(max_depth=4)),\n",
    "])\n",
    "\n",
    "tree_model.fit(train, train['popularity_category'])\n",
    "\n",
    "\n",
    "evaluate_model(tree_model, title='Decision Tree')"
   ]
  },
  {
   "cell_type": "code",
   "execution_count": 33,
   "metadata": {},
   "outputs": [
    {
     "data": {
      "text/plain": [
       "'Random Forest with limits'"
      ]
     },
     "metadata": {},
     "output_type": "display_data"
    },
    {
     "data": {
      "text/html": [
       "<div>\n",
       "<style scoped>\n",
       "    .dataframe tbody tr th:only-of-type {\n",
       "        vertical-align: middle;\n",
       "    }\n",
       "\n",
       "    .dataframe tbody tr th {\n",
       "        vertical-align: top;\n",
       "    }\n",
       "\n",
       "    .dataframe thead th {\n",
       "        text-align: right;\n",
       "    }\n",
       "</style>\n",
       "<table border=\"1\" class=\"dataframe\">\n",
       "  <thead>\n",
       "    <tr style=\"text-align: right;\">\n",
       "      <th></th>\n",
       "      <th>Accuracy</th>\n",
       "      <th>Precision</th>\n",
       "      <th>Recall</th>\n",
       "      <th>F1</th>\n",
       "    </tr>\n",
       "  </thead>\n",
       "  <tbody>\n",
       "    <tr>\n",
       "      <th>train</th>\n",
       "      <td>0.527926</td>\n",
       "      <td>0.834748</td>\n",
       "      <td>0.373132</td>\n",
       "      <td>0.297938</td>\n",
       "    </tr>\n",
       "    <tr>\n",
       "      <th>validation</th>\n",
       "      <td>0.496013</td>\n",
       "      <td>0.742021</td>\n",
       "      <td>0.343002</td>\n",
       "      <td>0.242354</td>\n",
       "    </tr>\n",
       "  </tbody>\n",
       "</table>\n",
       "</div>"
      ],
      "text/plain": [
       "            Accuracy  Precision    Recall        F1\n",
       "train       0.527926   0.834748  0.373132  0.297938\n",
       "validation  0.496013   0.742021  0.343002  0.242354"
      ]
     },
     "metadata": {},
     "output_type": "display_data"
    }
   ],
   "source": [
    "from sklearn.ensemble import RandomForestClassifier\n",
    "\n",
    "forest_model_limits = RandomForestClassifier(n_estimators=100, max_depth=6, max_features=5, random_state=42)\n",
    "\n",
    "rf_model_limits = Pipeline([\n",
    "    ('mapper', mapper),\n",
    "    ('classifier', forest_model_limits),\n",
    "])\n",
    "\n",
    "rf_model_limits.fit(train, train['popularity_category'])\n",
    "\n",
    "evaluate_model(rf_model_limits, title='Random Forest with limits')"
   ]
  },
  {
   "cell_type": "code",
   "execution_count": null,
   "metadata": {},
   "outputs": [],
   "source": []
  }
 ],
 "metadata": {
  "colab": {
   "provenance": [],
   "toc_visible": true
  },
  "kernelspec": {
   "display_name": "Python 3 (ipykernel)",
   "language": "python",
   "name": "python3"
  },
  "language_info": {
   "codemirror_mode": {
    "name": "ipython",
    "version": 3
   },
   "file_extension": ".py",
   "mimetype": "text/x-python",
   "name": "python",
   "nbconvert_exporter": "python",
   "pygments_lexer": "ipython3",
   "version": "3.10.12"
  }
 },
 "nbformat": 4,
 "nbformat_minor": 4
}
